{
 "cells": [
  {
   "cell_type": "code",
   "execution_count": 1,
   "metadata": {},
   "outputs": [],
   "source": [
    "import findspark\n",
    "findspark.init()\n",
    "\n",
    "import numpy as np\n",
    "import cv2\n",
    "import face_recognition\n",
    "from pyspark.ml.linalg import Vectors, VectorUDT\n",
    "from pyspark.ml.evaluation import MulticlassClassificationEvaluator\n",
    "from pyspark.ml.classification import LogisticRegression\n",
    "from pyspark.ml import Pipeline\n",
    "from pyspark.ml.feature import VectorAssembler, StringIndexer\n",
    "from pyspark.ml.evaluation import MulticlassClassificationEvaluator\n",
    "from PIL import Image\n",
    "from pyspark import SparkContext\n",
    "from pyspark.sql import SparkSession\n",
    "from pyspark.sql.functions import lit\n",
    "from pyspark.sql.functions import udf"
   ]
  },
  {
   "cell_type": "code",
   "execution_count": 2,
   "metadata": {},
   "outputs": [
    {
     "name": "stderr",
     "output_type": "stream",
     "text": [
      "your 131072x1 screen size is bogus. expect trouble\n",
      "24/05/19 21:33:46 WARN Utils: Your hostname, LAPTOP-390RNSVU resolves to a loopback address: 127.0.1.1; using 10.255.255.254 instead (on interface lo)\n",
      "24/05/19 21:33:46 WARN Utils: Set SPARK_LOCAL_IP if you need to bind to another address\n",
      "Setting default log level to \"WARN\".\n",
      "To adjust logging level use sc.setLogLevel(newLevel). For SparkR, use setLogLevel(newLevel).\n"
     ]
    }
   ],
   "source": [
    "\n",
    "SparkContext.setSystemProperty('spark.executor.memory', '4g')\n",
    "SparkContext.setSystemProperty('spark.driver.memory', '2g')\n",
    "spark = SparkSession \\\n",
    "    .builder \\\n",
    "    .appName(\"Streaming from Kafka\") \\\n",
    "    .config(\"spark.streaming.stopGracefullyOnShutdown\", \"true\") \\\n",
    "    .config(\"spark.memory.offHeap.enabled\",\"true\")\\\n",
    "    .config(\"spark.memory.offHeap.size\",\"8g\")\\\n",
    "    .config(\"spark.sql.shuffle.partitions\", 5) \\\n",
    "    .config(\"spark.network.timeout\",\"360000ms\")\\\n",
    "    .config(\"spark.executor.heartbeatInterval\",\"300000ms\")\\\n",
    "    .config(\"spark.sql.execution.arrow.pyspark.enabled\", \"true\")\\\n",
    "    .master(\"local[*]\") \\\n",
    "    .getOrCreate()\n",
    "spark.sparkContext.setLogLevel(\"ERROR\")"
   ]
  },
  {
   "cell_type": "code",
   "execution_count": 3,
   "metadata": {},
   "outputs": [],
   "source": [
    "images_df_ntp = spark.read.format(\"image\").option(\"dropInvalid\", True)\\\n",
    "  .load('./image/NTP', inferschema=True).withColumn('target',lit(\"phat\"))\n",
    "images_df_tqb = spark.read.format(\"image\").option(\"dropInvalid\", True)\\\n",
    "  .load('./image/TQB', inferschema=True).withColumn('target',lit(\"bao\"))\n",
    "images_df_hai = spark.read.format(\"image\").option(\"dropInvalid\", True)\\\n",
    "  .load('./image/DuyHai', inferschema=True).withColumn('target',lit(\"hai\"))\n",
    "images_df_huy = spark.read.format(\"image\").option(\"dropInvalid\", True)\\\n",
    "  .load('./image/QuangHuy', inferschema=True).withColumn('target',lit(\"huy\"))"
   ]
  },
  {
   "cell_type": "code",
   "execution_count": 4,
   "metadata": {},
   "outputs": [],
   "source": [
    "images_df = images_df_ntp.union(images_df_tqb).union(images_df_hai).union(images_df_huy)"
   ]
  },
  {
   "cell_type": "code",
   "execution_count": 5,
   "metadata": {},
   "outputs": [
    {
     "name": "stdout",
     "output_type": "stream",
     "text": [
      "root\n",
      " |-- image: struct (nullable = true)\n",
      " |    |-- origin: string (nullable = true)\n",
      " |    |-- height: integer (nullable = true)\n",
      " |    |-- width: integer (nullable = true)\n",
      " |    |-- nChannels: integer (nullable = true)\n",
      " |    |-- mode: integer (nullable = true)\n",
      " |    |-- data: binary (nullable = true)\n",
      " |-- target: string (nullable = false)\n",
      "\n"
     ]
    }
   ],
   "source": [
    "images_df.printSchema()"
   ]
  },
  {
   "cell_type": "code",
   "execution_count": 6,
   "metadata": {},
   "outputs": [
    {
     "name": "stderr",
     "output_type": "stream",
     "text": [
      "[Stage 0:>                                                          (0 + 1) / 1]\r"
     ]
    },
    {
     "name": "stdout",
     "output_type": "stream",
     "text": [
      "+-----+------+---------+\n",
      "|width|height|nChannels|\n",
      "+-----+------+---------+\n",
      "|  112|   112|        3|\n",
      "|  112|   112|        3|\n",
      "|  112|   112|        3|\n",
      "|  112|   112|        3|\n",
      "|  112|   112|        3|\n",
      "|  112|   112|        3|\n",
      "|  112|   112|        3|\n",
      "|  112|   112|        3|\n",
      "|  112|   112|        3|\n",
      "|  112|   112|        3|\n",
      "|  112|   112|        3|\n",
      "|  112|   112|        3|\n",
      "|  112|   112|        3|\n",
      "|  112|   112|        3|\n",
      "|  112|   112|        3|\n",
      "|  112|   112|        3|\n",
      "|  112|   112|        3|\n",
      "|  112|   112|        3|\n",
      "|  112|   112|        3|\n",
      "|  112|   112|        3|\n",
      "+-----+------+---------+\n",
      "only showing top 20 rows\n",
      "\n"
     ]
    },
    {
     "name": "stderr",
     "output_type": "stream",
     "text": [
      "                                                                                \r"
     ]
    }
   ],
   "source": [
    "images_df[[\"image.width\",\"image.height\",\"image.nChannels\"]].show()"
   ]
  },
  {
   "cell_type": "code",
   "execution_count": 7,
   "metadata": {},
   "outputs": [],
   "source": [
    "\n",
    "def bin_to_128d(img):\n",
    "    _img = cv2.cvtColor(np.reshape(np.asarray(img), (112,112,3)), cv2.COLOR_BGR2RGB) \n",
    "    faces = face_recognition.face_locations(_img,0)\n",
    "    \n",
    "    if len(faces) == 0 or faces is None:\n",
    "        return  None\n",
    "    try:\n",
    "        top, right, bottom, left = faces[0]\n",
    "        arr = np.asarray(_img)\n",
    "        return Vectors.dense(\n",
    "            face_recognition.face_encodings(\n",
    "                np.asarray(Image.fromarray(arr[top:bottom, left:right], mode='RGB'))\n",
    "            )[0].tolist()\n",
    "        )\n",
    "    except:\n",
    "        return None\n",
    "    \n",
    "udf_bin_to_128d = udf(bin_to_128d, VectorUDT())\n",
    "featured_df = images_df.withColumn('featuresModel', udf_bin_to_128d(images_df['image.data'])).select(\"featuresModel\",\"target\")"
   ]
  },
  {
   "cell_type": "code",
   "execution_count": 8,
   "metadata": {},
   "outputs": [],
   "source": [
    "featured_df = featured_df.filter(\"featuresModel IS NOT NULL\")"
   ]
  },
  {
   "cell_type": "code",
   "execution_count": 9,
   "metadata": {},
   "outputs": [
    {
     "name": "stderr",
     "output_type": "stream",
     "text": [
      "[Stage 1:>                                                          (0 + 1) / 1]\r"
     ]
    },
    {
     "name": "stdout",
     "output_type": "stream",
     "text": [
      "+--------------------+------+\n",
      "|       featuresModel|target|\n",
      "+--------------------+------+\n",
      "|[-0.0836555808782...|  phat|\n",
      "|[-0.0923014730215...|  phat|\n",
      "|[-0.1357773244380...|  phat|\n",
      "|[-0.0669603273272...|  phat|\n",
      "|[-0.0742524415254...|  phat|\n",
      "|[-0.0810490772128...|  phat|\n",
      "|[-0.0958993211388...|  phat|\n",
      "|[-0.0982806235551...|  phat|\n",
      "|[-0.1040647700428...|  phat|\n",
      "|[-0.1188037693500...|  phat|\n",
      "|[-0.1336424797773...|  phat|\n",
      "|[-0.0861320197582...|  phat|\n",
      "|[-0.0946999341249...|  phat|\n",
      "|[-0.0901736244559...|  phat|\n",
      "|[-0.0832401886582...|  phat|\n",
      "|[-0.0952133983373...|  phat|\n",
      "|[-0.0551990941166...|  phat|\n",
      "|[-0.1333475112915...|  phat|\n",
      "|[-0.1324640214443...|  phat|\n",
      "|[-0.0895575582981...|  phat|\n",
      "+--------------------+------+\n",
      "only showing top 20 rows\n",
      "\n"
     ]
    },
    {
     "name": "stderr",
     "output_type": "stream",
     "text": [
      "                                                                                \r"
     ]
    }
   ],
   "source": [
    "featured_df.show()"
   ]
  },
  {
   "cell_type": "code",
   "execution_count": 10,
   "metadata": {},
   "outputs": [
    {
     "name": "stdout",
     "output_type": "stream",
     "text": [
      "root\n",
      " |-- featuresModel: vector (nullable = true)\n",
      " |-- target: string (nullable = false)\n",
      "\n"
     ]
    }
   ],
   "source": [
    "featured_df.printSchema()"
   ]
  },
  {
   "cell_type": "code",
   "execution_count": 11,
   "metadata": {},
   "outputs": [
    {
     "name": "stderr",
     "output_type": "stream",
     "text": [
      "                                                                                \r"
     ]
    }
   ],
   "source": [
    "labelIndexer = StringIndexer(inputCol=\"target\", outputCol=\"indexedTarget\").fit(featured_df)"
   ]
  },
  {
   "cell_type": "code",
   "execution_count": 12,
   "metadata": {},
   "outputs": [],
   "source": [
    "lr = LogisticRegression(maxIter=5, regParam=0.03, \n",
    "                        elasticNetParam=0.5, labelCol=\"indexedTarget\", featuresCol=\"udt\")"
   ]
  },
  {
   "cell_type": "code",
   "execution_count": 13,
   "metadata": {},
   "outputs": [],
   "source": [
    "vector_assembler = VectorAssembler(inputCols=[\"featuresModel\"],outputCol=\"udt\")"
   ]
  },
  {
   "cell_type": "code",
   "execution_count": 14,
   "metadata": {},
   "outputs": [],
   "source": [
    "df_train_split, df_test_split =  featured_df.randomSplit([0.8, 0.2],42) "
   ]
  },
  {
   "cell_type": "code",
   "execution_count": 15,
   "metadata": {},
   "outputs": [
    {
     "name": "stderr",
     "output_type": "stream",
     "text": [
      "                                                                                \r"
     ]
    }
   ],
   "source": [
    "sparkdn = Pipeline(stages=[labelIndexer,vector_assembler,lr])\n",
    "spark_model = sparkdn.fit(df_train_split)"
   ]
  },
  {
   "cell_type": "code",
   "execution_count": 16,
   "metadata": {},
   "outputs": [
    {
     "name": "stderr",
     "output_type": "stream",
     "text": [
      "                                                                                \r"
     ]
    }
   ],
   "source": [
    "predictions = spark_model.transform(df_test_split)"
   ]
  },
  {
   "cell_type": "code",
   "execution_count": 17,
   "metadata": {},
   "outputs": [
    {
     "name": "stderr",
     "output_type": "stream",
     "text": [
      "[Stage 24:===========================================>              (3 + 1) / 4]\r"
     ]
    },
    {
     "name": "stdout",
     "output_type": "stream",
     "text": [
      "+--------------------+------+-------------+--------------------+--------------------+--------------------+----------+\n",
      "|       featuresModel|target|indexedTarget|                 udt|       rawPrediction|         probability|prediction|\n",
      "+--------------------+------+-------------+--------------------+--------------------+--------------------+----------+\n",
      "|[-0.1333475112915...|  phat|          1.0|[-0.1333475112915...|[-2.0582456043261...|[0.00645414716123...|       1.0|\n",
      "|[-0.1040647700428...|  phat|          1.0|[-0.1040647700428...|[-1.5610983359862...|[0.00643514160497...|       1.0|\n",
      "|[-0.0958993211388...|  phat|          1.0|[-0.0958993211388...|[-1.6341758059338...|[0.00783170639610...|       1.0|\n",
      "|[-0.0901736244559...|  phat|          1.0|[-0.0901736244559...|[-1.7378060341455...|[0.00808411272476...|       1.0|\n",
      "|[-0.0832401886582...|  phat|          1.0|[-0.0832401886582...|[-1.6923266118875...|[0.00560746525020...|       1.0|\n",
      "|[-0.0742524415254...|  phat|          1.0|[-0.0742524415254...|[-1.8017867826552...|[0.00605171279168...|       1.0|\n",
      "|[-0.1318085789680...|  phat|          1.0|[-0.1318085789680...|[-2.1004789757238...|[0.00612793806833...|       1.0|\n",
      "|[-0.0958504453301...|  phat|          1.0|[-0.0958504453301...|[-1.3276957578583...|[0.01241353419616...|       1.0|\n",
      "|[-0.0945226401090...|  phat|          1.0|[-0.0945226401090...|[-1.6254447702755...|[0.00647011747640...|       1.0|\n",
      "|[-0.0901586040854...|  phat|          1.0|[-0.0901586040854...|[-2.4198666072233...|[0.00275067540429...|       1.0|\n",
      "|[-0.0848000869154...|  phat|          1.0|[-0.0848000869154...|[-1.9824031911406...|[0.00407941855984...|       1.0|\n",
      "|[-0.0812383741140...|  phat|          1.0|[-0.0812383741140...|[-1.5970835819320...|[0.00572568193704...|       1.0|\n",
      "|[-0.1333143413066...|  phat|          1.0|[-0.1333143413066...|[-1.5739482235555...|[0.00853141555097...|       1.0|\n",
      "|[-0.0955011770129...|  phat|          1.0|[-0.0955011770129...|[-1.8273746608934...|[0.00729222004721...|       1.0|\n",
      "|[-0.0921442583203...|  phat|          1.0|[-0.0921442583203...|[-1.4545609145943...|[0.00826534331488...|       1.0|\n",
      "|[-0.0914440527558...|  phat|          1.0|[-0.0914440527558...|[-1.2787660417360...|[0.02345034325018...|       1.0|\n",
      "|[-0.0909393206238...|  phat|          1.0|[-0.0909393206238...|[-1.4744947177323...|[0.01026648590896...|       1.0|\n",
      "|[-0.0871653929352...|  phat|          1.0|[-0.0871653929352...|[-1.6203812491432...|[0.00613950506750...|       1.0|\n",
      "|[-0.0615237765014...|  phat|          1.0|[-0.0615237765014...|[-1.4032131334928...|[0.00943821897374...|       1.0|\n",
      "|[-0.0970403179526...|  phat|          1.0|[-0.0970403179526...|[-1.5354030376812...|[0.01166923404555...|       1.0|\n",
      "+--------------------+------+-------------+--------------------+--------------------+--------------------+----------+\n",
      "only showing top 20 rows\n",
      "\n"
     ]
    },
    {
     "name": "stderr",
     "output_type": "stream",
     "text": [
      "                                                                                \r"
     ]
    }
   ],
   "source": [
    "predictions.show()"
   ]
  },
  {
   "cell_type": "code",
   "execution_count": 18,
   "metadata": {},
   "outputs": [
    {
     "name": "stderr",
     "output_type": "stream",
     "text": [
      "[Stage 25:===================================================>    (22 + 2) / 24]\r"
     ]
    },
    {
     "name": "stdout",
     "output_type": "stream",
     "text": [
      "Test Error = 0\n"
     ]
    },
    {
     "name": "stderr",
     "output_type": "stream",
     "text": [
      "                                                                                \r"
     ]
    }
   ],
   "source": [
    "evaluator = MulticlassClassificationEvaluator(\n",
    "    labelCol=\"indexedTarget\", predictionCol=\"prediction\", metricName=\"accuracy\")\n",
    "accuracy = evaluator.evaluate(predictions)\n",
    "print(\"Test Error = %g\" % (1.0 - accuracy))"
   ]
  },
  {
   "cell_type": "code",
   "execution_count": 19,
   "metadata": {},
   "outputs": [
    {
     "name": "stdout",
     "output_type": "stream",
     "text": [
      "1.0\n"
     ]
    }
   ],
   "source": [
    "print(accuracy)"
   ]
  },
  {
   "cell_type": "code",
   "execution_count": 20,
   "metadata": {},
   "outputs": [
    {
     "name": "stderr",
     "output_type": "stream",
     "text": [
      "                                                                                \r"
     ]
    }
   ],
   "source": [
    "spark_model.stages[2].save(\"lrmodel\")"
   ]
  },
  {
   "cell_type": "code",
   "execution_count": 21,
   "metadata": {},
   "outputs": [
    {
     "data": {
      "text/plain": [
       "['hai', 'phat', 'huy', 'bao']"
      ]
     },
     "execution_count": 21,
     "metadata": {},
     "output_type": "execute_result"
    }
   ],
   "source": [
    "labelIndexer.labels"
   ]
  }
 ],
 "metadata": {
  "kernelspec": {
   "display_name": "bigdata",
   "language": "python",
   "name": "python3"
  },
  "language_info": {
   "codemirror_mode": {
    "name": "ipython",
    "version": 3
   },
   "file_extension": ".py",
   "mimetype": "text/x-python",
   "name": "python",
   "nbconvert_exporter": "python",
   "pygments_lexer": "ipython3",
   "version": "3.11.9"
  }
 },
 "nbformat": 4,
 "nbformat_minor": 2
}
